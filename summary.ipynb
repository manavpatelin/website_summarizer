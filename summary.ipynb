{
 "cells": [
  {
   "cell_type": "code",
   "execution_count": 1,
   "id": "b6f83ed8-6083-4dd3-bdb8-f3a813c0972e",
   "metadata": {},
   "outputs": [],
   "source": [
    "from selenium import webdriver\n",
    "from bs4 import BeautifulSoup\n",
    "import time\n",
    "import requests\n",
    "from IPython.display import display, Markdown\n",
    "import streamlit as st\n",
    "\n",
    "# Constants for the model and API\n",
    "MODEL = \"llama3.2\"\n",
    "OLLAMA_API = \"http://localhost:11434/api/chat\"\n",
    "HEADERS = {\"Content-Type\": \"application/json\"}\n"
   ]
  },
  {
   "cell_type": "code",
   "execution_count": 2,
   "id": "119cf337-a39c-4e3e-9966-1a4fc7808571",
   "metadata": {},
   "outputs": [],
   "source": [
    "# Data structure for holding parsed webpage data\n",
    "class Website:\n",
    "    def __init__(self, title, text):\n",
    "        self.title = title\n",
    "        self.text = text"
   ]
  },
  {
   "cell_type": "code",
   "execution_count": 3,
   "id": "21f6175a-ce5a-4f9d-9531-4d2fafccfdd0",
   "metadata": {},
   "outputs": [],
   "source": [
    "# Prompt instructions to the model\n",
    "system_prompt = (\n",
    "    \"You are an assistant that analyzes the contents of a website \"\n",
    "    \"and provides a short summary, ignoring text that might be navigation related. \"\n",
    "    \"Respond in markdown.\"\n",
    ")\n",
    "\n",
    "def user_prompt_for(website):\n",
    "    return (\n",
    "        f\"You are looking at a website titled {website.title}\\n\"\n",
    "        \"The contents of this website is as follows; please provide a short summary of this website in markdown. \"\n",
    "        \"If it includes news or announcements, then summarize these too.\\n\\n\"\n",
    "        + website.text\n",
    "    )\n",
    "\n",
    "def messages_for(website):\n",
    "    return [\n",
    "        {\"role\": \"system\", \"content\": system_prompt},\n",
    "        {\"role\": \"user\", \"content\": user_prompt_for(website)}\n",
    "    ]\n"
   ]
  },
  {
   "cell_type": "code",
   "execution_count": 4,
   "id": "602bca5b-fc7d-4469-ba08-076f1c3c090e",
   "metadata": {},
   "outputs": [],
   "source": [
    "def summarize(url):\n",
    "    # Start browser\n",
    "    driver = webdriver.Chrome()\n",
    "    driver.get(url)\n",
    "    time.sleep(2)  # Fast but enough for most JS to render\n",
    "\n",
    "    # Parse the page\n",
    "    soup = BeautifulSoup(driver.page_source, \"html.parser\")\n",
    "    driver.quit()  # Free up browser ASAP\n",
    "\n",
    "    # Remove noisy HTML elements\n",
    "    for tag in soup([\"img\", \"style\", \"script\", \"nav\", \"footer\", \"header\", \"button\", \"input\", \"svg\", \"a\"]):\n",
    "        tag.decompose()\n",
    "    for unwanted in soup.select(\".navbar, .menu, .sidebar, .ad-banner\"):\n",
    "        unwanted.decompose()\n",
    "\n",
    "    # Extract content\n",
    "    title = soup.title.string if soup.title else \"No Title\"\n",
    "    text = soup.get_text(separator=\"\\n\", strip=True)\n",
    "\n",
    "    website = Website(title, text)\n",
    "    payload = {\n",
    "        \"model\": MODEL,\n",
    "        \"messages\": messages_for(website),\n",
    "        \"stream\": False\n",
    "    }\n",
    "\n",
    "    response = requests.post(OLLAMA_API, json=payload, headers=HEADERS)\n",
    "    return response.json()['message']['content']\n"
   ]
  },
  {
   "cell_type": "code",
   "execution_count": 6,
   "id": "dd52b72c-c937-4a34-bbd6-1c9f998b0fd9",
   "metadata": {},
   "outputs": [],
   "source": [
    "def display_summary(url):\n",
    "    summary = summarize(url)\n",
    "    display(Markdown(summary))\n"
   ]
  },
  {
   "cell_type": "code",
   "execution_count": 7,
   "id": "b6c2bdf6-213c-43c1-8dae-73af416cb9b2",
   "metadata": {},
   "outputs": [
    {
     "data": {
      "text/markdown": [
       "**Summary**\n",
       "===============\n",
       "\n",
       "### Overview\n",
       "\n",
       "The Machine Learning Tutorial provides an in-depth understanding of machine learning concepts, including different types of machine learning algorithms, applications, libraries used in ML, and real-life examples.\n",
       "\n",
       "### Key Topics\n",
       "\n",
       "*   **What is Machine Learning?**: A branch of artificial intelligence that works on algorithm developments and statistical models to allow computers to learn from data and make predictions or decisions without being explicitly programmed.\n",
       "*   **Machine Learning Process**: The tutorial explains the common working process of machine learning, which includes stages such as data collection, data pre-processing, choosing the right model, training the model, evaluating the model, hyperparameter tuning, and deployment.\n",
       "*   **Types of Machine Learning**: Supervised, unsupervised, semi-supervised, and reinforcement learning are discussed.\n",
       "*   **Common Machine Learning Algorithms**: Neural networks, linear regression, logistic regression, clustering, decision trees, random forests, and importance of machine learning.\n",
       "*   **Applications of Machine Learning**: Speech recognition, customer service, computer vision, recommendation engines, robotic process automation, automated stock trading, and fraud detection.\n",
       "\n",
       "### Recommendations\n",
       "\n",
       "The tutorial is recommended for those who want to learn about the basics and advances of machine learning. It requires a basic understanding of technical aspects of machine learning, data processing, and artificial intelligence basics.\n",
       "\n",
       "### Key Takeaways\n",
       "\n",
       "*   Machine learning is a branch of artificial intelligence that allows computers to learn from data and make predictions or decisions without being explicitly programmed.\n",
       "*   The machine learning process includes stages such as data collection, data pre-processing, choosing the right model, training the model, evaluating the model, hyperparameter tuning, and deployment.\n",
       "*   Supervised, unsupervised, semi-supervised, and reinforcement learning are types of machine learning.\n",
       "*   Machine learning is used in various fields, including speech recognition, customer service, computer vision, recommendation engines, robotic process automation, automated stock trading, and fraud detection."
      ],
      "text/plain": [
       "<IPython.core.display.Markdown object>"
      ]
     },
     "metadata": {},
     "output_type": "display_data"
    }
   ],
   "source": [
    "if __name__ == \"__main__\":\n",
    "    url = \"https://www.tutorialspoint.com/machine_learning/index.htm\"\n",
    "    display_summary(url)\n"
   ]
  },
  {
   "cell_type": "code",
   "execution_count": null,
   "id": "44448f6f-90b6-4c95-8154-6dc3e88dc202",
   "metadata": {},
   "outputs": [],
   "source": []
  }
 ],
 "metadata": {
  "kernelspec": {
   "display_name": "Python 3 (ipykernel)",
   "language": "python",
   "name": "python3"
  },
  "language_info": {
   "codemirror_mode": {
    "name": "ipython",
    "version": 3
   },
   "file_extension": ".py",
   "mimetype": "text/x-python",
   "name": "python",
   "nbconvert_exporter": "python",
   "pygments_lexer": "ipython3",
   "version": "3.11.12"
  }
 },
 "nbformat": 4,
 "nbformat_minor": 5
}
